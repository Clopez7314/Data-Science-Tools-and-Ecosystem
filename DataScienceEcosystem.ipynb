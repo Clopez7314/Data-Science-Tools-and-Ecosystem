{
 "cells": [
  {
   "cell_type": "markdown",
   "id": "93a762d9-49d5-4941-9432-a72fe8ad2cdb",
   "metadata": {},
   "source": [
    "# Data Science Tools and Ecosystem"
   ]
  },
  {
   "cell_type": "markdown",
   "id": "e6bd1a23-1d31-494d-b0f8-55c2a18cb218",
   "metadata": {},
   "source": [
    "Summarization of Data Science Tools and Ecosystem"
   ]
  },
  {
   "cell_type": "markdown",
   "id": "ecd2548e-7bf4-4b88-b87c-a83663795b12",
   "metadata": {},
   "source": [
    "Three popular languages that Data Scientists use are:"
   ]
  },
  {
   "cell_type": "markdown",
   "id": "e1246d91-f373-43fa-91e5-8279f98d69cf",
   "metadata": {},
   "source": [
    "1. Python\n",
    "2. SQL\n",
    "3. R"
   ]
  },
  {
   "cell_type": "markdown",
   "id": "63f1bac7-64b6-4a6c-b5c5-99b3ed541ca5",
   "metadata": {},
   "source": [
    "Three commonly used libraries used by Data Scientists include:"
   ]
  },
  {
   "cell_type": "markdown",
   "id": "063e1304-edcb-43f6-8bc4-6a292fcc090c",
   "metadata": {},
   "source": [
    "1. Numpy\n",
    "2. GGplot2 \n",
    "3. Caret"
   ]
  },
  {
   "cell_type": "markdown",
   "id": "7ad0732c-d81d-44be-b9a6-ea07d46df488",
   "metadata": {},
   "source": [
    "|Data Science Tools|\n",
    "|------------------|\n",
    "|Tableau|\n",
    "|Jupyter Notebook|\n",
    "|Apache Spark|"
   ]
  },
  {
   "cell_type": "markdown",
   "id": "7b77f80d-9b2f-489f-9092-7c462dea6949",
   "metadata": {},
   "source": [
    "### Examples of evaluating arithmetic expressions in Python"
   ]
  },
  {
   "cell_type": "code",
   "execution_count": 8,
   "id": "5a8a1cf0-4075-450a-bfe8-0850d6bf9350",
   "metadata": {},
   "outputs": [
    {
     "name": "stdout",
     "output_type": "stream",
     "text": [
      "3.3333333333333335 Hours or rounded to 3 Hours\n"
     ]
    }
   ],
   "source": [
    "total_minutes = 200\n",
    "hour = 60\n",
    "conversion = total_minutes / hour\n",
    "print(conversion, \"Hours or rounded to\", round(conversion),\"Hours\")"
   ]
  },
  {
   "cell_type": "markdown",
   "id": "d7857b19-258a-4358-86a3-95cc76526def",
   "metadata": {},
   "source": [
    "**Objectives:**\n",
    "- Three popular Languages in Data Science\n",
    "- Three common libraries used in Data Science\n",
    "- Three Data Science Tools\n",
    "- Arithimetics using Python"
   ]
  },
  {
   "cell_type": "markdown",
   "id": "626e0d29-e436-4b4c-8f4d-96f835595a93",
   "metadata": {},
   "source": [
    "## Author\n",
    "Christopher Lopez"
   ]
  },
  {
   "cell_type": "code",
   "execution_count": null,
   "id": "659613e7-50db-4fb2-b0e1-b2db2a582146",
   "metadata": {},
   "outputs": [],
   "source": []
  }
 ],
 "metadata": {
  "kernelspec": {
   "display_name": "Python 3 (ipykernel)",
   "language": "python",
   "name": "python3"
  },
  "language_info": {
   "codemirror_mode": {
    "name": "ipython",
    "version": 3
   },
   "file_extension": ".py",
   "mimetype": "text/x-python",
   "name": "python",
   "nbconvert_exporter": "python",
   "pygments_lexer": "ipython3",
   "version": "3.11.7"
  }
 },
 "nbformat": 4,
 "nbformat_minor": 5
}
